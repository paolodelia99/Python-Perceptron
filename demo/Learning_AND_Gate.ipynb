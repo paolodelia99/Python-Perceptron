{
 "cells": [
  {
   "cell_type": "markdown",
   "source": [
    "## Teach to a perceotron to learn the AND gate\n",
    "\n",
    "Since the And is a boolean function that is separable in the \n",
    "2-d space, It will be easy for the percetron to learn the And boolean \n",
    "function\n",
    "\n",
    "![and_space](../assets/img/and_2d_space.jpg)\n",
    "\n",
    "So let's do it!"
   ],
   "metadata": {
    "collapsed": false,
    "pycharm": {
     "name": "#%% md\n"
    }
   }
  },
  {
   "cell_type": "code",
   "execution_count": 7,
   "metadata": {
    "collapsed": true,
    "pycharm": {
     "name": "#%%\n",
     "is_executing": false
    }
   },
   "outputs": [
    {
     "name": "stdout",
     "text": [
      "1\n",
      "0\n",
      "0\n",
      "0\n"
     ],
     "output_type": "stream"
    }
   ],
   "source": [
    "from src.perceptron import Perceptron\n",
    "from src.functions.activationFunctions.heaviside import Heaviside\n",
    "from src.functions.errorFunctions.mean_square_error import MeanSquareErr\n",
    "\n",
    "train_in = [\n",
    "     [1, 1, 1],\n",
    "     [0, 1, 0],\n",
    "     [1, 0, 0], \n",
    "     [0, 0, 0]\n",
    "]\n",
    "\n",
    "p = Perceptron(2, 0.01, Heaviside(), MeanSquareErr())\n",
    "\n",
    "# Train the perceptron\n",
    "p.train(train_in, 2, 100)\n",
    "\n",
    "print(p.evaluate([1,1]))\n",
    "print(p.evaluate([1,0]))\n",
    "print(p.evaluate([0,1]))\n",
    "print(p.evaluate([0,0]))\n"
   ]
  }
 ],
 "metadata": {
  "kernelspec": {
   "name": "python3",
   "language": "python",
   "display_name": "Python 3"
  },
  "language_info": {
   "codemirror_mode": {
    "name": "ipython",
    "version": 2
   },
   "file_extension": ".py",
   "mimetype": "text/x-python",
   "name": "python",
   "nbconvert_exporter": "python",
   "pygments_lexer": "ipython2",
   "version": "2.7.6"
  },
  "pycharm": {
   "stem_cell": {
    "cell_type": "raw",
    "source": [],
    "metadata": {
     "collapsed": false
    }
   }
  }
 },
 "nbformat": 4,
 "nbformat_minor": 0
}