{
 "cells": [
  {
   "cell_type": "markdown",
   "source": [
    "## Teach to a perceotron to learn the AND gate\n",
    "\n",
    "Since the And is a boolean function that is separable in the \n",
    "2-d space, It will be easy for the percetron to learn the And boolean \n",
    "function\n",
    "\n",
    "![and_space](../assets/img/and_2d_space.jpg)\n",
    "\n",
    "So let's do it!"
   ],
   "metadata": {
    "collapsed": false,
    "pycharm": {
     "name": "#%% md\n"
    }
   }
  },
  {
   "cell_type": "code",
   "execution_count": null,
   "metadata": {
    "collapsed": true
   },
   "outputs": [],
   "source": [
    "from src.perceptron import Perceptron\n",
    "from src.activationFunctions.heaviside import Heaviside\n",
    "\n",
    "train_in = [\n",
    "     [1, 1, 1],\n",
    "     [0, 1, 0],\n",
    "     [1, 0, 1], \n",
    "     [0, 0, 0]\n",
    "]\n",
    "\n",
    "p = Perceptron(2, Heaviside(), 0.01)\n",
    "\n",
    "# Train the perceptron\n",
    "p.train(train_in)\n",
    "\n",
    "print(p.evaluate([1,1]))"
   ]
  },
  {
   "cell_type": "markdown",
   "source": [
    "As you might guess the perceptron is really good to learn simple the boolean function, \n",
    "so let's try to make is learn the OR function!"
   ],
   "metadata": {
    "collapsed": false,
    "pycharm": {
     "name": "#%% md\n"
    }
   }
  }
 ],
 "metadata": {
  "kernelspec": {
   "display_name": "Python 3",
   "language": "python",
   "name": "python3"
  },
  "language_info": {
   "codemirror_mode": {
    "name": "ipython",
    "version": 2
   },
   "file_extension": ".py",
   "mimetype": "text/x-python",
   "name": "python",
   "nbconvert_exporter": "python",
   "pygments_lexer": "ipython2",
   "version": "2.7.6"
  },
  "pycharm": {
   "stem_cell": {
    "cell_type": "raw",
    "source": [],
    "metadata": {
     "collapsed": false
    }
   }
  }
 },
 "nbformat": 4,
 "nbformat_minor": 0
}