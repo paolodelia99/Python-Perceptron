{
 "cells": [
  {
   "cell_type": "markdown",
   "source": [
    "## Try to classify the sonr dataset using the Perceptron\n",
    "\n",
    "Since train the perceptron to learn boolean function is too easy, I tried to \n",
    "use the preceptron to classify some more diffucult: the SONAR Dataset!\n",
    "\n",
    "For those you don't know the SONAR data set which contains the data about 208 patterns \n",
    "obtained by bouncing sonar signals off a metal cylinder (naval mine) and a rock at various \n",
    "angles and under various conditions. \n",
    "\n"
   ],
   "metadata": {
    "collapsed": false,
    "pycharm": {
     "name": "#%% md\n",
     "is_executing": false
    }
   }
  },
  {
   "cell_type": "code",
   "execution_count": null,
   "metadata": {
    "collapsed": true,
    "pycharm": {
     "is_executing": false
    }
   },
   "outputs": [],
   "source": [
    "import pandas as pd\n",
    "from src.perceptron import Perceptron\n",
    "from src.activationFunctions.heaviside import Heaviside\n",
    "from src.activationFunctions.relu import ReLU\n",
    "\n",
    "# Train a perceptron to \n",
    "sonar_dataset = pd.read_csv('./data/sonar_csv.csv',delimiter= ',')\n",
    "\n",
    "sonar_dataset"
   ]
  },
  {
   "cell_type": "code",
   "execution_count": null,
   "outputs": [],
   "source": [
    "# modify the dataset changing the rock with 0 and the mine with 1 so I can use the heaviside function\n",
    "\n",
    "dfc = sonar_dataset.copy()\n",
    "\n",
    "dfc['Class']=dfc['Class'].apply(lambda t: 0 if t == 'Rock' else 1)\n",
    "\n",
    "dfc.to_csv('./data/mod_sonar.csv', index=False)"
   ],
   "metadata": {
    "collapsed": false,
    "pycharm": {
     "name": "#%%\n",
     "is_executing": false
    }
   }
  },
  {
   "cell_type": "markdown",
   "source": [
    "The perceptron that I've use has 60 weights one bias, and as a activation function I've choose the\n",
    "Heaviside function.\n",
    "\n",
    "The way I trained the perceptron is by using mini batch, cause train the perceptron using only a \n",
    "bigger batch isn't optimal."
   ],
   "metadata": {
    "collapsed": false,
    "pycharm": {
     "name": "#%% md\n"
    }
   }
  },
  {
   "cell_type": "code",
   "execution_count": 34,
   "outputs": [
    {
     "name": "stdout",
     "text": [
      "[0.2691770832427217, 0.5058831887312211, 0.1411408961502426, 0.8944247216967841, 0.14288398612587538, 0.29032402089321063, 0.05988244828505784, 0.440640055161011, 0.7844304940435747, 0.1617972331784211, 0.3304466809778772, 0.9255496946036939, 0.20431325096825959, 0.0028523153868604822, 0.10943244471995828, 0.16722405096186632, 0.7083267708228175, 0.6309819838066841, 0.32570918256701675, 0.6359282731560616, 0.45785573800780077, 0.2663651223272977, 0.9523497102157413, 0.5088155255786254, 0.02566565995960257, 0.11353993903614468, 0.42797249557682104, 0.23229376896888954, 0.06618728753282832, 0.5811792107834282, 0.7065563948809283, 0.9363191775803262, 0.2976702223720922, 0.14035750252856127, 0.7492279893859222, 0.47199254574894733, 0.6064479844785736, 0.8581752839562123, 0.7730779197731128, 0.4334069654224326, 0.7252096962692238, 0.25059591151344807, 0.4187077183535288, 0.14012011538403835, 0.8961779488403849, 0.6378417558079666, 0.1698869050086228, 0.010896560768194008, 0.16918347866494132, 0.24697267706531767, 0.18894116135820938, 0.8988820100144247, 0.16731652010778197, 0.21742062935660322, 0.6130636023991788, 0.5114983325789577, 0.3771222800780303, 0.8518851044082255, 0.29696465607164246, 0.9543035201358159]\n",
      "[0.25253608324272236, 0.4877511887312211, 0.12605089615024206, 0.8745307216967848, 0.09995898612587535, 0.2197990208932104, -0.0039965517149421655, 0.3987830551610099, 0.7642064940435741, 0.1202152331784207, 0.2783196809778769, 0.804021694603693, 0.11428425096826003, -0.10007568461313941, -0.009585555280041748, 0.012862050961866246, 0.5500807708228179, 0.4624809838066845, 0.13697518256701688, 0.46783127315606016, 0.2373527380078012, 0.12620412232729772, 0.7288427102157427, 0.27704952557862467, -0.10410334004039754, -0.09720706096385522, 0.09097349557682075, -0.19246223103111057, -0.33567471246717195, 0.21980021078342896, 0.3379913948809276, 0.6382801775803272, -0.04182577762790784, -0.3036914974714386, 0.2598079893859207, -0.0166754542510524, 0.20379098447857358, 0.5135292839562129, 0.45951591977311396, 0.11400696542243272, 0.43813969626922245, 0.008781911513448155, 0.23596171835352941, 0.02919511538403827, 0.8186099488403845, 0.5967167558079637, 0.12497090500862296, -0.02999643923180597, 0.14144647866494103, 0.23646767706531732, 0.1831161613582091, 0.8936940100144266, 0.16005052010778237, 0.20900562935660347, 0.608136602399179, 0.5070593325789571, 0.3703562800780303, 0.8482151044082243, 0.29255965607164136, 0.9506185201358172]\n",
      "0.4782608695652174\n"
     ],
     "output_type": "stream"
    }
   ],
   "source": [
    "from sklearn.utils import shuffle\n",
    "from sklearn.model_selection import train_test_split\n",
    "\n",
    "filename = './data/mod_sonar.csv'\n",
    "\n",
    "df = pd.read_csv(filename)\n",
    "X = df[df.columns[0:61]].values\n",
    "\n",
    "X = shuffle(X, random_state=1)\n",
    "train_x, test_x = train_test_split(X, test_size=0.90, random_state=42)\n",
    "\n",
    "# The perceptron has 60 inputs, hence 60 weights, as a \n",
    "p = Perceptron(60, Heaviside(), 0.01)\n",
    "\n",
    "# Perceptron weights before training\n",
    "print(p.weights)\n",
    "\n",
    "p.train(train_x, 5, 100)\n",
    "\n",
    "# Perceptron weights after training\n",
    "print(p.weights)\n",
    "\n",
    "no_right = 0\n",
    "\n",
    "for i, r in enumerate(test_x):\n",
    "    p_sol = p.evaluate(r[0:p.no_input])\n",
    "    true_res = r[-1]\n",
    "    no_right += 1 if p_sol == true_res else 0\n",
    "    \n",
    "print(no_right/207)\n"
   ],
   "metadata": {
    "collapsed": false,
    "pycharm": {
     "name": "#%%\n",
     "is_executing": false
    }
   }
  }
 ],
 "metadata": {
  "kernelspec": {
   "display_name": "Python 3",
   "language": "python",
   "name": "python3"
  },
  "language_info": {
   "codemirror_mode": {
    "name": "ipython",
    "version": 2
   },
   "file_extension": ".py",
   "mimetype": "text/x-python",
   "name": "python",
   "nbconvert_exporter": "python",
   "pygments_lexer": "ipython2",
   "version": "2.7.6"
  },
  "pycharm": {
   "stem_cell": {
    "cell_type": "raw",
    "source": [],
    "metadata": {
     "collapsed": false
    }
   }
  }
 },
 "nbformat": 4,
 "nbformat_minor": 0
}